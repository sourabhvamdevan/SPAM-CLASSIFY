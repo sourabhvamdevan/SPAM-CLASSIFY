{
 "cells": [
  {
   "cell_type": "code",
   "execution_count": null,
   "id": "c81b592d-1fe8-4361-b24f-ff3423920dfe",
   "metadata": {},
   "outputs": [
    {
     "ename": "",
     "evalue": "",
     "output_type": "error",
     "traceback": [
      "\u001b[1;31mRunning cells with 'anaconda3 (Python 3.11.7)' requires the ipykernel package.\n",
      "\u001b[1;31mRun the following command to install 'ipykernel' into the Python environment. \n",
      "\u001b[1;31mCommand: 'conda install -n anaconda3 ipykernel --update-deps --force-reinstall'"
     ]
    }
   ],
   "source": [
    "import numpy as np\n",
    "import pandas as pd\n",
    "from sklearn.model_selection import train_test_split\n",
    "from sklearn.feature_extraction.text import TfidfVectorizer\n",
    "from sklearn.linear_model import LogisticRegression\n",
    "from sklearn.metrics import accuracy_score"
   ]
  },
  {
   "cell_type": "code",
   "execution_count": null,
   "id": "89d938b1-7cd6-491c-9a5c-1f51385eaf18",
   "metadata": {},
   "outputs": [
    {
     "ename": "",
     "evalue": "",
     "output_type": "error",
     "traceback": [
      "\u001b[1;31mRunning cells with 'anaconda3 (Python 3.11.7)' requires the ipykernel package.\n",
      "\u001b[1;31mRun the following command to install 'ipykernel' into the Python environment. \n",
      "\u001b[1;31mCommand: 'conda install -n anaconda3 ipykernel --update-deps --force-reinstall'"
     ]
    }
   ],
   "source": [
    "# Data Collection and Pre Processing\n",
    "# 1 Load Data from csv file to a pandas datafram\n",
    "raw_mail_data = pd.read_csv(r\"C:\\Users\\leewa\\OneDrive\\Desktop\\SPAM C\\mail data.csv\")\n",
    "raw_mail_data.head()"
   ]
  },
  {
   "cell_type": "code",
   "execution_count": 5,
   "id": "c1c90a87-a1cc-45c3-ac7a-fdd8124eec68",
   "metadata": {},
   "outputs": [],
   "source": [
    "\n",
    "# Replace the null values with a null string\n",
    "mail_data = raw_mail_data.where(pd.notnull(raw_mail_data),'')"
   ]
  },
  {
   "cell_type": "code",
   "execution_count": null,
   "id": "4605e88c-f632-4f74-b7bb-ab0b385d0512",
   "metadata": {},
   "outputs": [],
   "source": [
    "# Printing first 5 row of mail data\n",
    "mail_data.head()"
   ]
  },
  {
   "cell_type": "code",
   "execution_count": null,
   "id": "57b6bf5e-2a71-49e6-bc37-ab420c960f68",
   "metadata": {},
   "outputs": [],
   "source": [
    "\n",
    "# Checking the number of rows and columns\n",
    "mail_data.shape"
   ]
  },
  {
   "cell_type": "code",
   "execution_count": 8,
   "id": "1613f04b-b57f-4153-b1a9-d843a6dd6b6f",
   "metadata": {},
   "outputs": [],
   "source": [
    "\n",
    "#  Label Encoding\n",
    "mail_data.loc[mail_data['Category'] == 'spam', 'Category'] = 0\n",
    "mail_data.loc[mail_data['Category'] == 'ham', 'Category'] = 1"
   ]
  },
  {
   "cell_type": "code",
   "execution_count": 10,
   "id": "b08a720b-2dfc-40a0-8eac-1fb740f9c7b3",
   "metadata": {},
   "outputs": [],
   "source": [
    "\n",
    "# Seperating the text as texts and label\n",
    "X = mail_data['Message']\n",
    "Y = mail_data['Category']"
   ]
  },
  {
   "cell_type": "code",
   "execution_count": null,
   "id": "ce08de9a-32ce-4dd7-ba03-01c11e6b0950",
   "metadata": {},
   "outputs": [],
   "source": [
    "X.head()"
   ]
  },
  {
   "cell_type": "code",
   "execution_count": null,
   "id": "2e56b3c7-d1be-481e-9d1b-c3ac543f61ad",
   "metadata": {},
   "outputs": [],
   "source": [
    "\n",
    "Y.head()"
   ]
  },
  {
   "cell_type": "code",
   "execution_count": 15,
   "id": "fd5e84fe-05bb-4bae-b6dd-a5aaeb3a07cd",
   "metadata": {},
   "outputs": [],
   "source": [
    "X_Train,X_test,Y_Train,Y_test = train_test_split(X,Y,test_size=0.2,random_state=3)\n"
   ]
  },
  {
   "cell_type": "code",
   "execution_count": null,
   "id": "590c52c7-5f3a-49c7-88d1-7854e1250534",
   "metadata": {},
   "outputs": [],
   "source": [
    "\n",
    "X.shape\n"
   ]
  },
  {
   "cell_type": "code",
   "execution_count": null,
   "id": "fddeb1b7-49da-4545-a539-a2658540a810",
   "metadata": {},
   "outputs": [],
   "source": [
    "X_Train.shape"
   ]
  },
  {
   "cell_type": "code",
   "execution_count": null,
   "id": "68a85d00-5ed6-4189-b6ce-36d1f65f61f3",
   "metadata": {},
   "outputs": [],
   "source": [
    "\n",
    "Y_test.shape"
   ]
  },
  {
   "cell_type": "code",
   "execution_count": 19,
   "id": "82badfa2-62c9-4608-9b82-3bea3381045f",
   "metadata": {},
   "outputs": [],
   "source": [
    "# Feature Extraction \n",
    "# Transform text data to feature vectors that can be used as input to the logistic regression\n",
    "feature_extraction = TfidfVectorizer(min_df=1,stop_words='english',lowercase='True')"
   ]
  },
  {
   "cell_type": "code",
   "execution_count": 23,
   "id": "82bba3e7-5e14-48ce-b4b8-65dc1dc71082",
   "metadata": {},
   "outputs": [],
   "source": [
    "from sklearn.feature_extraction.text import TfidfVectorizer\n",
    "\n",
    "# Initialize the TfidfVectorizer\n",
    "feature_extraction = TfidfVectorizer(lowercase=False)  # Set lowercase to False\n",
    "\n",
    "# Transform your training data\n",
    "X_train_feature = feature_extraction.fit_transform(X_Train)\n",
    "\n",
    "# Transform your test data\n",
    "X_test_feature = feature_extraction.transform(X_test)\n",
    "\n",
    "# Convert Y_train and Y_test to integers\n",
    "Y_Train = Y_Train.astype('int')\n",
    "Y_test = Y_test.astype('int')\n"
   ]
  },
  {
   "cell_type": "code",
   "execution_count": null,
   "id": "bee67f23-53d3-4f08-bd6d-791fe152a53b",
   "metadata": {},
   "outputs": [],
   "source": [
    "\n",
    "print(X_train_feature)"
   ]
  },
  {
   "cell_type": "code",
   "execution_count": null,
   "id": "f5578ffe-1105-4612-be37-150f15770aa6",
   "metadata": {},
   "outputs": [],
   "source": [
    "X_Train"
   ]
  },
  {
   "cell_type": "code",
   "execution_count": 27,
   "id": "2448813a-d1ca-4e87-a7c3-f83f240563e4",
   "metadata": {},
   "outputs": [],
   "source": [
    "from sklearn.linear_model import LogisticRegression\n"
   ]
  },
  {
   "cell_type": "code",
   "execution_count": 28,
   "id": "58b705f9-3f6d-4472-a101-bd723ea0c96f",
   "metadata": {},
   "outputs": [],
   "source": [
    "# Import the necessary module\n",
    "from sklearn.linear_model import LogisticRegression\n",
    "\n",
    "# Create the logistic regression model\n",
    "model = LogisticRegression()\n"
   ]
  },
  {
   "cell_type": "code",
   "execution_count": 29,
   "id": "c73e226e-43b5-4c1c-8a87-5d169cd58113",
   "metadata": {},
   "outputs": [],
   "source": [
    "# Training the Model\n",
    "# Logistic Regression\n",
    "model = LogisticRegression()\n"
   ]
  },
  {
   "cell_type": "code",
   "execution_count": null,
   "id": "f57c4615-9cd4-43aa-ba03-8a83aca3283c",
   "metadata": {},
   "outputs": [],
   "source": [
    "\n",
    "Y_Train"
   ]
  },
  {
   "cell_type": "code",
   "execution_count": null,
   "id": "77c89785-47bb-4081-9860-dc911b09249f",
   "metadata": {},
   "outputs": [],
   "source": [
    "model.fit(X_train_feature,Y_Train)"
   ]
  },
  {
   "cell_type": "code",
   "execution_count": 32,
   "id": "a081f70e-c210-41f1-a40d-8fbc6ccbe128",
   "metadata": {},
   "outputs": [],
   "source": [
    "# Evaluating the Trained Model\n",
    "# Predition on Training Model\n",
    "prediction_on_Training_Data = model.predict(X_train_feature)\n",
    "accuracy_on_training_data = accuracy_score(Y_Train,prediction_on_Training_Data)"
   ]
  },
  {
   "cell_type": "code",
   "execution_count": null,
   "id": "3021407f-acf7-469a-89a3-0f426d8f6c71",
   "metadata": {},
   "outputs": [],
   "source": []
  }
 ],
 "metadata": {
  "kernelspec": {
   "display_name": "anaconda3",
   "language": "python",
   "name": "python3"
  },
  "language_info": {
   "codemirror_mode": {
    "name": "ipython",
    "version": 3
   },
   "file_extension": ".py",
   "mimetype": "text/x-python",
   "name": "python",
   "nbconvert_exporter": "python",
   "pygments_lexer": "ipython3",
   "version": "3.11.7"
  }
 },
 "nbformat": 4,
 "nbformat_minor": 5
}
